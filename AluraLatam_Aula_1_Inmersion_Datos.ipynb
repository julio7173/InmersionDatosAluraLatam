{
  "nbformat": 4,
  "nbformat_minor": 0,
  "metadata": {
    "colab": {
      "provenance": [],
      "authorship_tag": "ABX9TyPR793bHfht9wp/ixOUyB+a",
      "include_colab_link": true
    },
    "kernelspec": {
      "name": "python3",
      "display_name": "Python 3"
    },
    "language_info": {
      "name": "python"
    }
  },
  "cells": [
    {
      "cell_type": "markdown",
      "metadata": {
        "id": "view-in-github",
        "colab_type": "text"
      },
      "source": [
        "<a href=\"https://colab.research.google.com/github/julio7173/Proyectos-Personales/blob/main/AluraLatam_Aula_1_Inmersion_Datos.ipynb\" target=\"_parent\"><img src=\"https://colab.research.google.com/assets/colab-badge.svg\" alt=\"Open In Colab\"/></a>"
      ]
    },
    {
      "cell_type": "code",
      "execution_count": 1,
      "metadata": {
        "colab": {
          "base_uri": "https://localhost:8080/"
        },
        "id": "ixLHzaY4xd4-",
        "outputId": "ea993d78-c8f7-44be-f9b0-8cfc483c324e"
      },
      "outputs": [
        {
          "output_type": "stream",
          "name": "stdout",
          "text": [
            "Mounted at /content/drive\n"
          ]
        }
      ],
      "source": [
        "from google.colab import drive\n",
        "drive.mount(\"/content/drive\")\n"
      ]
    },
    {
      "cell_type": "code",
      "source": [
        "import pandas as pd\n",
        "inmuebles = pd.read_csv(\"/content/drive/MyDrive/inmuebles_bogota.csv\")"
      ],
      "metadata": {
        "id": "h5EkT3Jhyrx1"
      },
      "execution_count": 2,
      "outputs": []
    },
    {
      "cell_type": "markdown",
      "source": [
        "Promedio de área de todos los inmuebles en los barrios en el dataset, junto a una grafica de barras del top 10."
      ],
      "metadata": {
        "id": "mAuzdQdZ2izt"
      }
    },
    {
      "cell_type": "code",
      "source": [
        "columnas = {\"Baños\" : \"Banos\", \"Área\" : \"Area\"}\n",
        "inmuebles = inmuebles.rename(columns = columnas)"
      ],
      "metadata": {
        "id": "yINTtw-Y2pke"
      },
      "execution_count": 4,
      "outputs": []
    },
    {
      "cell_type": "code",
      "source": [
        "inmuebles.Area.mean()"
      ],
      "metadata": {
        "colab": {
          "base_uri": "https://localhost:8080/"
        },
        "id": "wWJ-z8Uz3x2W",
        "outputId": "f4771ec2-ef7d-42a5-fad3-1954a80f08b4"
      },
      "execution_count": 7,
      "outputs": [
        {
          "output_type": "execute_result",
          "data": {
            "text/plain": [
              "146.66470588235293"
            ]
          },
          "metadata": {},
          "execution_count": 7
        }
      ]
    },
    {
      "cell_type": "code",
      "source": [
        "inmuebles.Area.value_counts().head(10).plot.bar()\n",
        "inmuebles.Area.value_counts().head(10)"
      ],
      "metadata": {
        "colab": {
          "base_uri": "https://localhost:8080/",
          "height": 624
        },
        "id": "kj_gjHRW4h8r",
        "outputId": "d79e7319-705c-46b0-9280-2fb93f36087d"
      },
      "execution_count": 13,
      "outputs": [
        {
          "output_type": "execute_result",
          "data": {
            "text/plain": [
              "47    260\n",
              "60    174\n",
              "48    172\n",
              "54    168\n",
              "70    151\n",
              "50    143\n",
              "51    142\n",
              "59    133\n",
              "53    133\n",
              "63    132\n",
              "Name: Area, dtype: int64"
            ]
          },
          "metadata": {},
          "execution_count": 13
        },
        {
          "output_type": "display_data",
          "data": {
            "text/plain": [
              "<Figure size 640x480 with 1 Axes>"
            ],
            "image/png": "[encoded data removed]"
          },
          "metadata": {}
        }
      ]
    },
    {
      "cell_type": "markdown",
      "source": [
        "Consultar otros datos estadisticos, como; conteo, mediana, valores minimos y valores maximos."
      ],
      "metadata": {
        "id": "E_KsVChP5_yG"
      }
    },
    {
      "cell_type": "markdown",
      "source": [
        "En estadística, el **CONTEO** se refiere al número total de elementos en un conjunto de datos. La **MEDIANA** es el valor que se encuentra en el medio de un conjunto de datos ordenados. Es decir, la mitad de los valores es menor que o igual a la mediana y la otra mitad de los valores es mayor que o igual a la mediana1. Los valores **MINIMOS** y **MAXIMOS** son, respectivamente, el valor más pequeño y el valor más grande en un conjunto de datos."
      ],
      "metadata": {
        "id": "AQBytDco7EpT"
      }
    },
    {
      "cell_type": "code",
      "source": [],
      "metadata": {
        "id": "z4hSnBV27W8G"
      },
      "execution_count": null,
      "outputs": []
    }
  ]
}